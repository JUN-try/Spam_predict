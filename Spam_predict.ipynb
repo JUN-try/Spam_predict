{
 "cells": [
  {
   "cell_type": "markdown",
   "metadata": {},
   "source": [
    "# scikit-learnを使ってスパムメールを分類"
   ]
  },
  {
   "cell_type": "code",
   "execution_count": 1,
   "metadata": {},
   "outputs": [],
   "source": [
    "import numpy as np\n",
    "import pandas as pd\n",
    "import matplotlib.pyplot as plt"
   ]
  },
  {
   "cell_type": "code",
   "execution_count": 2,
   "metadata": {
    "collapsed": true
   },
   "outputs": [],
   "source": [
    "import draw_function"
   ]
  },
  {
   "cell_type": "code",
   "execution_count": 3,
   "metadata": {},
   "outputs": [],
   "source": [
    "#%ls"
   ]
  },
  {
   "cell_type": "code",
   "execution_count": 4,
   "metadata": {
    "scrolled": true
   },
   "outputs": [
    {
     "data": {
      "text/html": [
       "<div>\n",
       "<style>\n",
       "    .dataframe thead tr:only-child th {\n",
       "        text-align: right;\n",
       "    }\n",
       "\n",
       "    .dataframe thead th {\n",
       "        text-align: left;\n",
       "    }\n",
       "\n",
       "    .dataframe tbody tr th {\n",
       "        vertical-align: top;\n",
       "    }\n",
       "</style>\n",
       "<table border=\"1\" class=\"dataframe\">\n",
       "  <thead>\n",
       "    <tr style=\"text-align: right;\">\n",
       "      <th></th>\n",
       "      <th>make</th>\n",
       "      <th>address</th>\n",
       "      <th>all</th>\n",
       "      <th>num3d</th>\n",
       "      <th>our</th>\n",
       "      <th>over</th>\n",
       "      <th>remove</th>\n",
       "      <th>internet</th>\n",
       "      <th>order</th>\n",
       "      <th>mail</th>\n",
       "      <th>...</th>\n",
       "      <th>charRoundbracket</th>\n",
       "      <th>charSquarebracket</th>\n",
       "      <th>charExclamation</th>\n",
       "      <th>charDollar</th>\n",
       "      <th>charHash</th>\n",
       "      <th>capitalAve</th>\n",
       "      <th>capitalLong</th>\n",
       "      <th>capitalTotal</th>\n",
       "      <th>type</th>\n",
       "      <th>Unnamed: 58</th>\n",
       "    </tr>\n",
       "  </thead>\n",
       "  <tbody>\n",
       "    <tr>\n",
       "      <th>0</th>\n",
       "      <td>1</td>\n",
       "      <td>-0.342396</td>\n",
       "      <td>0.330849</td>\n",
       "      <td>0.712781</td>\n",
       "      <td>-0.046894</td>\n",
       "      <td>0.011563</td>\n",
       "      <td>-0.350228</td>\n",
       "      <td>-0.291762</td>\n",
       "      <td>-0.262533</td>\n",
       "      <td>-0.323267</td>\n",
       "      <td>...</td>\n",
       "      <td>-0.158436</td>\n",
       "      <td>-0.514251</td>\n",
       "      <td>-0.155181</td>\n",
       "      <td>0.623939</td>\n",
       "      <td>-0.308321</td>\n",
       "      <td>-0.103037</td>\n",
       "      <td>-0.045242</td>\n",
       "      <td>0.045293</td>\n",
       "      <td>-0.008723</td>\n",
       "      <td>1</td>\n",
       "    </tr>\n",
       "    <tr>\n",
       "      <th>1</th>\n",
       "      <td>2</td>\n",
       "      <td>0.345322</td>\n",
       "      <td>0.051904</td>\n",
       "      <td>0.435082</td>\n",
       "      <td>-0.046894</td>\n",
       "      <td>-0.256089</td>\n",
       "      <td>0.672326</td>\n",
       "      <td>0.244717</td>\n",
       "      <td>-0.088001</td>\n",
       "      <td>-0.323267</td>\n",
       "      <td>...</td>\n",
       "      <td>-0.158436</td>\n",
       "      <td>-0.026004</td>\n",
       "      <td>-0.155181</td>\n",
       "      <td>0.126189</td>\n",
       "      <td>0.423737</td>\n",
       "      <td>0.008762</td>\n",
       "      <td>-0.002443</td>\n",
       "      <td>0.250536</td>\n",
       "      <td>1.228191</td>\n",
       "      <td>1</td>\n",
       "    </tr>\n",
       "    <tr>\n",
       "      <th>2</th>\n",
       "      <td>3</td>\n",
       "      <td>-0.145906</td>\n",
       "      <td>-0.165054</td>\n",
       "      <td>0.851631</td>\n",
       "      <td>-0.046894</td>\n",
       "      <td>1.364698</td>\n",
       "      <td>0.343648</td>\n",
       "      <td>0.193623</td>\n",
       "      <td>0.036666</td>\n",
       "      <td>1.973802</td>\n",
       "      <td>...</td>\n",
       "      <td>-0.117364</td>\n",
       "      <td>0.014683</td>\n",
       "      <td>-0.155181</td>\n",
       "      <td>0.008495</td>\n",
       "      <td>0.440005</td>\n",
       "      <td>-0.079746</td>\n",
       "      <td>0.145905</td>\n",
       "      <td>2.220865</td>\n",
       "      <td>3.258378</td>\n",
       "      <td>1</td>\n",
       "    </tr>\n",
       "    <tr>\n",
       "      <th>3</th>\n",
       "      <td>4</td>\n",
       "      <td>-0.342396</td>\n",
       "      <td>-0.165054</td>\n",
       "      <td>-0.556700</td>\n",
       "      <td>-0.046894</td>\n",
       "      <td>0.472521</td>\n",
       "      <td>-0.350228</td>\n",
       "      <td>0.500183</td>\n",
       "      <td>1.308259</td>\n",
       "      <td>0.789376</td>\n",
       "      <td>...</td>\n",
       "      <td>-0.158436</td>\n",
       "      <td>-0.007510</td>\n",
       "      <td>-0.155181</td>\n",
       "      <td>-0.161917</td>\n",
       "      <td>-0.308321</td>\n",
       "      <td>-0.103037</td>\n",
       "      <td>-0.052144</td>\n",
       "      <td>-0.062459</td>\n",
       "      <td>-0.152205</td>\n",
       "      <td>1</td>\n",
       "    </tr>\n",
       "    <tr>\n",
       "      <th>4</th>\n",
       "      <td>5</td>\n",
       "      <td>-0.342396</td>\n",
       "      <td>-0.165054</td>\n",
       "      <td>-0.556700</td>\n",
       "      <td>-0.046894</td>\n",
       "      <td>0.472521</td>\n",
       "      <td>-0.350228</td>\n",
       "      <td>0.500183</td>\n",
       "      <td>1.308259</td>\n",
       "      <td>0.789376</td>\n",
       "      <td>...</td>\n",
       "      <td>-0.158436</td>\n",
       "      <td>-0.014908</td>\n",
       "      <td>-0.155181</td>\n",
       "      <td>-0.164369</td>\n",
       "      <td>-0.308321</td>\n",
       "      <td>-0.103037</td>\n",
       "      <td>-0.052144</td>\n",
       "      <td>-0.062459</td>\n",
       "      <td>-0.152205</td>\n",
       "      <td>1</td>\n",
       "    </tr>\n",
       "  </tbody>\n",
       "</table>\n",
       "<p>5 rows × 59 columns</p>\n",
       "</div>"
      ],
      "text/plain": [
       "   make   address       all     num3d       our      over    remove  internet  \\\n",
       "0     1 -0.342396  0.330849  0.712781 -0.046894  0.011563 -0.350228 -0.291762   \n",
       "1     2  0.345322  0.051904  0.435082 -0.046894 -0.256089  0.672326  0.244717   \n",
       "2     3 -0.145906 -0.165054  0.851631 -0.046894  1.364698  0.343648  0.193623   \n",
       "3     4 -0.342396 -0.165054 -0.556700 -0.046894  0.472521 -0.350228  0.500183   \n",
       "4     5 -0.342396 -0.165054 -0.556700 -0.046894  0.472521 -0.350228  0.500183   \n",
       "\n",
       "      order      mail     ...       charRoundbracket  charSquarebracket  \\\n",
       "0 -0.262533 -0.323267     ...              -0.158436          -0.514251   \n",
       "1 -0.088001 -0.323267     ...              -0.158436          -0.026004   \n",
       "2  0.036666  1.973802     ...              -0.117364           0.014683   \n",
       "3  1.308259  0.789376     ...              -0.158436          -0.007510   \n",
       "4  1.308259  0.789376     ...              -0.158436          -0.014908   \n",
       "\n",
       "   charExclamation  charDollar  charHash  capitalAve  capitalLong  \\\n",
       "0        -0.155181    0.623939 -0.308321   -0.103037    -0.045242   \n",
       "1        -0.155181    0.126189  0.423737    0.008762    -0.002443   \n",
       "2        -0.155181    0.008495  0.440005   -0.079746     0.145905   \n",
       "3        -0.155181   -0.161917 -0.308321   -0.103037    -0.052144   \n",
       "4        -0.155181   -0.164369 -0.308321   -0.103037    -0.052144   \n",
       "\n",
       "   capitalTotal      type  Unnamed: 58  \n",
       "0      0.045293 -0.008723            1  \n",
       "1      0.250536  1.228191            1  \n",
       "2      2.220865  3.258378            1  \n",
       "3     -0.062459 -0.152205            1  \n",
       "4     -0.062459 -0.152205            1  \n",
       "\n",
       "[5 rows x 59 columns]"
      ]
     },
     "execution_count": 4,
     "metadata": {},
     "output_type": "execute_result"
    }
   ],
   "source": [
    "spam=pd.read_csv('SpamData.csv')\n",
    "spam.head()"
   ]
  },
  {
   "cell_type": "markdown",
   "metadata": {},
   "source": [
    "### データをトレーニングデータとテストデータに分ける"
   ]
  },
  {
   "cell_type": "code",
   "execution_count": 5,
   "metadata": {
    "collapsed": true
   },
   "outputs": [],
   "source": [
    "from sklearn. model_selection import train_test_split\n",
    "\n",
    "\n",
    "#0~58列目以降のデータをXに、最後の列のデータをyに格納\n",
    "X,y=spam.iloc[:,0:-1],spam.iloc[:,-1]\n",
    "\n",
    "#トレーニングデータとテストデータに分割\n",
    "X_train,X_test,y_train,y_test=train_test_split(X,y,test_size=0.3,random_state=0)"
   ]
  },
  {
   "cell_type": "markdown",
   "metadata": {},
   "source": [
    "# アンサンブル学習"
   ]
  },
  {
   "cell_type": "markdown",
   "metadata": {},
   "source": [
    " - 弱い学習器\n",
    " 　-- ロジスティック回帰\n",
    "　 -- 決定木\n",
    " 　--k近傍法　"
   ]
  },
  {
   "cell_type": "code",
   "execution_count": 6,
   "metadata": {},
   "outputs": [
    {
     "name": "stdout",
     "output_type": "stream",
     "text": [
      "10-fold cross validation:\n",
      "\n",
      "accuracy: 0.919866 (+/- 0.014830) [Logistic Regression]\n",
      "accuracy: 0.899992 (+/- 0.018886) [Decision Tree]\n",
      "accuracy: 0.893476 (+/- 0.013616) [KNN]\n",
      "accuracy: 0.914595 (+/- 0.016720) [Majority Voting]\n"
     ]
    }
   ],
   "source": [
    "from sklearn.linear_model import LogisticRegression\n",
    "from sklearn.tree import DecisionTreeClassifier\n",
    "from sklearn.neighbors import KNeighborsClassifier \n",
    "from sklearn.ensemble import VotingClassifier\n",
    "from sklearn.pipeline import Pipeline\n",
    "from sklearn.model_selection import cross_val_score\n",
    "from sklearn.preprocessing import StandardScaler\n",
    "from sklearn.decomposition import PCA\n",
    "\n",
    "\n",
    "\n",
    "\n",
    "clf1 = LogisticRegression(random_state=0)\n",
    "\n",
    "clf2 = DecisionTreeClassifier(max_depth=1,\n",
    "                              criterion='entropy',\n",
    "                              random_state=0)\n",
    "\n",
    "clf3 = KNeighborsClassifier(n_neighbors=1,\n",
    "                            p=2,\n",
    "                            metric='minkowski')\n",
    "\n",
    "\n",
    "MV=VotingClassifier(estimators=[('lr',clf1),('tr',clf2),('kn',clf3)],voting='soft')\n",
    "\n",
    "\n",
    "\n",
    "pipe1 = Pipeline([['sc', StandardScaler()],\n",
    "                  ['pca',PCA(n_components=2)],\n",
    "                  ['clf1', clf1]])\n",
    "\n",
    "pipe2=Pipeline([['sc',StandardScaler()],\n",
    "                ['pca',PCA(n_components=2)],\n",
    "                ['clf2',clf2]])\n",
    "\n",
    "pipe3 = Pipeline([['sc', StandardScaler()],\n",
    "                  ['pca',PCA(n_components=2)],\n",
    "                  ['clf3', clf3]])\n",
    "\n",
    "\n",
    "pip_mv=Pipeline([['sc', StandardScaler()],['pca',PCA(n_components=2)],['mv', MV]])\n",
    "\n",
    "clf_labels = ['Logistic Regression', 'Decision Tree', 'KNN','Majority Voting']\n",
    "all_clf = [pipe1, pipe2, pipe3, pip_mv]\n",
    "\n",
    "\n",
    "print('10-fold cross validation:\\n')\n",
    "for clf, label in zip(all_clf, clf_labels):\n",
    "    scores = cross_val_score(estimator=clf,\n",
    "                             X=X_train,\n",
    "                             y=y_train,\n",
    "                             cv=10,\n",
    "                             scoring='accuracy')\n",
    "    print(\"accuracy: %f (+/- %f) [%s]\"\n",
    "          % (scores.mean(), scores.std(), label))\n",
    "    \n",
    "\n",
    "    "
   ]
  },
  {
   "cell_type": "markdown",
   "metadata": {},
   "source": [
    "### グリッドサーチによるパラメータ調整　"
   ]
  },
  {
   "cell_type": "code",
   "execution_count": 7,
   "metadata": {},
   "outputs": [],
   "source": [
    "from sklearn.model_selection import GridSearchCV\n",
    "\n",
    "params=[{'tr__max_depth':[1,2,3],'lr__C':[0.01,0.1,10],'lr__penalty':['l2']},\n",
    "        {'tr__max_depth':[1,2,3],'lr__C':[0.01,0.1,10],'lr__penalty':['l1']}  \n",
    "       ]\n",
    "grid=GridSearchCV(estimator=MV,\n",
    "                  param_grid=params,\n",
    "                  cv=10,\n",
    "                  scoring='accuracy')"
   ]
  },
  {
   "cell_type": "code",
   "execution_count": 8,
   "metadata": {
    "scrolled": false
   },
   "outputs": [
    {
     "data": {
      "text/plain": [
       "GridSearchCV(cv=10, error_score='raise',\n",
       "       estimator=VotingClassifier(estimators=[('lr', LogisticRegression(C=1.0, class_weight=None, dual=False, fit_intercept=True,\n",
       "          intercept_scaling=1, max_iter=100, multi_class='ovr', n_jobs=1,\n",
       "          penalty='l2', random_state=0, solver='liblinear', tol=0.0001,\n",
       "          verbose=0, warm_start...       weights='uniform'))],\n",
       "         flatten_transform=None, n_jobs=1, voting='soft', weights=None),\n",
       "       fit_params=None, iid=True, n_jobs=1,\n",
       "       param_grid=[{'tr__max_depth': [1, 2, 3], 'lr__C': [0.01, 0.1, 10], 'lr__penalty': ['l2']}, {'tr__max_depth': [1, 2, 3], 'lr__C': [0.01, 0.1, 10], 'lr__penalty': ['l1']}],\n",
       "       pre_dispatch='2*n_jobs', refit=True, return_train_score=True,\n",
       "       scoring='accuracy', verbose=0)"
      ]
     },
     "execution_count": 8,
     "metadata": {},
     "output_type": "execute_result"
    }
   ],
   "source": [
    "grid.fit(X_train,y_train)"
   ]
  },
  {
   "cell_type": "markdown",
   "metadata": {},
   "source": [
    "### パラメータを見てみる"
   ]
  },
  {
   "cell_type": "code",
   "execution_count": 9,
   "metadata": {
    "scrolled": true
   },
   "outputs": [
    {
     "data": {
      "text/plain": [
       "{'lr__C': 0.01, 'lr__penalty': 'l2', 'tr__max_depth': 1}"
      ]
     },
     "execution_count": 9,
     "metadata": {},
     "output_type": "execute_result"
    }
   ],
   "source": [
    "grid.best_params_"
   ]
  },
  {
   "cell_type": "code",
   "execution_count": 10,
   "metadata": {},
   "outputs": [
    {
     "data": {
      "text/plain": [
       "0.99968944099378887"
      ]
     },
     "execution_count": 10,
     "metadata": {},
     "output_type": "execute_result"
    }
   ],
   "source": [
    "##トレーニングデータに対してのベストスコア\n",
    "grid.best_score_"
   ]
  },
  {
   "cell_type": "markdown",
   "metadata": {},
   "source": [
    "### ベストのパラメータでテストデータを検証"
   ]
  },
  {
   "cell_type": "code",
   "execution_count": 11,
   "metadata": {},
   "outputs": [
    {
     "data": {
      "text/plain": [
       "VotingClassifier(estimators=[('lr', LogisticRegression(C=0.01, class_weight=None, dual=False, fit_intercept=True,\n",
       "          intercept_scaling=1, max_iter=100, multi_class='ovr', n_jobs=1,\n",
       "          penalty='l2', random_state=0, solver='liblinear', tol=0.0001,\n",
       "          verbose=0, warm_start=False)), ('tr', DecisionT...owski',\n",
       "           metric_params=None, n_jobs=1, n_neighbors=1, p=2,\n",
       "           weights='uniform'))],\n",
       "         flatten_transform=None, n_jobs=1, voting='soft', weights=None)"
      ]
     },
     "execution_count": 11,
     "metadata": {},
     "output_type": "execute_result"
    }
   ],
   "source": [
    "best_clf=grid.best_estimator_\n",
    "best_clf.fit(X_train,y_train)"
   ]
  },
  {
   "cell_type": "code",
   "execution_count": 12,
   "metadata": {},
   "outputs": [
    {
     "data": {
      "text/plain": [
       "0.999275887038378"
      ]
     },
     "execution_count": 12,
     "metadata": {},
     "output_type": "execute_result"
    }
   ],
   "source": [
    "best_clf.score(X_test,y_test)"
   ]
  },
  {
   "cell_type": "markdown",
   "metadata": {},
   "source": [
    "### 学習曲線を使ってバイアスとバリアンスの検証"
   ]
  },
  {
   "cell_type": "code",
   "execution_count": 13,
   "metadata": {},
   "outputs": [],
   "source": [
    "from sklearn.model_selection import learning_curve\n",
    "\n",
    "\n",
    "\n",
    "train_sizes,train_scores,test_scores=\\\n",
    "                learning_curve(estimator=best_clf,\n",
    "                              X=X_train,\n",
    "                              y=y_train,\n",
    "                              train_sizes=np.linspace(0.1,1.0,10),\n",
    "                              cv=10,\n",
    "                              n_jobs=1)"
   ]
  },
  {
   "cell_type": "code",
   "execution_count": 14,
   "metadata": {},
   "outputs": [
    {
     "data": {
      "image/png": "[encoded data removed]",
      "text/plain": [
       "<matplotlib.figure.Figure at 0x1a0983f550>"
      ]
     },
     "metadata": {},
     "output_type": "display_data"
    }
   ],
   "source": [
    "train_mean=np.mean(train_scores,axis=1)\n",
    "train_std=np.std(train_scores,axis=1)\n",
    "\n",
    "test_mean=np.mean(test_scores,axis=1)\n",
    "test_std=np.std(test_scores,axis=1)\n",
    "\n",
    "#プロット\n",
    "\n",
    "#トレーニングデータ\n",
    "plt.plot(train_sizes,train_mean,color='blue',marker='o',\n",
    "                             markersize=5,label='training accuracy')\n",
    "\n",
    "plt.fill_between(train_sizes,\n",
    "                 train_mean+train_std,\n",
    "                 train_mean-train_std,\n",
    "                 alpha=0.15,\n",
    "                 color='blue')\n",
    "\n",
    "#テストデータ\n",
    "plt.plot(train_sizes,test_mean,color='green',linestyle='--',marker='s',\n",
    "                             markersize=5,label='validation accuracy')\n",
    "\n",
    "plt.fill_between(train_sizes,\n",
    "                 test_mean+test_std,\n",
    "                 test_mean-test_std,\n",
    "                 alpha=0.15,\n",
    "                 color='green')\n",
    "\n",
    "\n",
    "plt.grid()\n",
    "\n",
    "plt.xlabel('Number of training samples')\n",
    "plt.ylabel('Accuracy')\n",
    "\n",
    "plt.legend(loc='best')\n",
    "plt.ylim([0.995,1.001])\n",
    "\n",
    "plt.show()"
   ]
  },
  {
   "cell_type": "markdown",
   "metadata": {},
   "source": [
    "### トレーニングデータのサンプル数が少ないと過学習がみられるが正答率をみる限り問題はないだろう.\n"
   ]
  },
  {
   "cell_type": "markdown",
   "metadata": {},
   "source": [
    "## 最後にどんな分布になってるか確認してみよう"
   ]
  },
  {
   "cell_type": "markdown",
   "metadata": {},
   "source": [
    "### スパムメールのデータをPCAで二次元に変換"
   ]
  },
  {
   "cell_type": "code",
   "execution_count": 15,
   "metadata": {
    "collapsed": true
   },
   "outputs": [],
   "source": [
    "from sklearn.decomposition import PCA\n",
    "from sklearn.preprocessing import StandardScaler\n",
    "\n",
    "\n",
    "#平均と標準偏差を用いて標準化\n",
    "sc=StandardScaler()\n",
    "\n",
    "X_train_std=sc.fit_transform(X_train)\n",
    "X_test_std=sc.transform(X_test)\n",
    "\n",
    "#主成分数を指定して、PCAのインスタンスを生成\n",
    "pca=PCA(n_components=2)\n",
    "\n",
    "#トレーニングデータとテストデータをPCAに適合させる\n",
    "X_train_pca=pca.fit_transform(X_train_std)\n",
    "X_test_pca=pca.transform(X_test_std)"
   ]
  },
  {
   "cell_type": "code",
   "execution_count": 16,
   "metadata": {},
   "outputs": [
    {
     "data": {
      "image/png": "[encoded data removed]",
      "text/plain": [
       "<matplotlib.figure.Figure at 0x1a0f1a6358>"
      ]
     },
     "metadata": {},
     "output_type": "display_data"
    }
   ],
   "source": [
    "draw_function.plot_decision_regions(X_train_pca,y_train,x_label='pca1',y_label='pca2',title='spam_data')"
   ]
  },
  {
   "cell_type": "markdown",
   "metadata": {},
   "source": [
    "#### トレーニングデータの決定領域をみてみる"
   ]
  },
  {
   "cell_type": "code",
   "execution_count": 17,
   "metadata": {},
   "outputs": [
    {
     "data": {
      "image/png": "[encoded data removed]",
      "text/plain": [
       "<matplotlib.figure.Figure at 0x10837a0b8>"
      ]
     },
     "metadata": {},
     "output_type": "display_data"
    }
   ],
   "source": [
    "clf1 = LogisticRegression(C=0.01,penalty='l2',random_state=0)\n",
    "\n",
    "clf2 = DecisionTreeClassifier(max_depth=1,\n",
    "                              criterion='entropy',\n",
    "                              random_state=0)\n",
    "\n",
    "clf3 = KNeighborsClassifier(n_neighbors=1,\n",
    "                            p=2,\n",
    "                            metric='minkowski')\n",
    "\n",
    "\n",
    "MV=VotingClassifier(estimators=[('lr',clf1),('tr',clf2),('kn',clf3)],voting='soft')\n",
    "MV.fit(X_train_pca,y_train)\n",
    "\n",
    "draw_function.plot_decision_regions(X_train_pca,y_train,classifier=MV,x_label='pca1',y_label='pca2',title='spam_data(train)')"
   ]
  },
  {
   "cell_type": "markdown",
   "metadata": {},
   "source": [
    "#### 　テストデータの決定領域をみてみる"
   ]
  },
  {
   "cell_type": "code",
   "execution_count": 18,
   "metadata": {},
   "outputs": [
    {
     "data": {
      "image/png": "[encoded data removed]",
      "text/plain": [
       "<matplotlib.figure.Figure at 0x108372a20>"
      ]
     },
     "metadata": {},
     "output_type": "display_data"
    }
   ],
   "source": [
    "draw_function.plot_decision_regions(X_test_pca,y_test,classifier=MV,x_label='pca1',y_label='pca2',title='spam_data(test)')"
   ]
  },
  {
   "cell_type": "markdown",
   "metadata": {},
   "source": [
    "#### しっかり分類できているか謎である、、"
   ]
  },
  {
   "cell_type": "markdown",
   "metadata": {
    "scrolled": true
   },
   "source": [
    "## end"
   ]
  }
 ],
 "metadata": {
  "kernelspec": {
   "display_name": "Python 3",
   "language": "python",
   "name": "python3"
  },
  "language_info": {
   "codemirror_mode": {
    "name": "ipython",
    "version": 3
   },
   "file_extension": ".py",
   "mimetype": "text/x-python",
   "name": "python",
   "nbconvert_exporter": "python",
   "pygments_lexer": "ipython3",
   "version": "3.6.2"
  }
 },
 "nbformat": 4,
 "nbformat_minor": 2
}
